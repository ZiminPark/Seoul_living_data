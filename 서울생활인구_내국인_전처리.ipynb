{
 "cells": [
  {
   "cell_type": "markdown",
   "metadata": {},
   "source": [
    "# 생활인구 데이터 홈페이지\n",
    "https://data.seoul.go.kr/dataVisual/seoul/seoulLivingPopulation.do"
   ]
  },
  {
   "cell_type": "code",
   "execution_count": 52,
   "metadata": {},
   "outputs": [],
   "source": [
    "import os\n",
    "import json\n",
    "import pandas as pd\n",
    "import numpy as np\n",
    "import datetime\n",
    "import seaborn as sns\n",
    "import matplotlib.pyplot as plt"
   ]
  },
  {
   "cell_type": "markdown",
   "metadata": {},
   "source": [
    "# 날짜와 시간을 지정"
   ]
  },
  {
   "cell_type": "code",
   "execution_count": 185,
   "metadata": {},
   "outputs": [],
   "source": [
    "when = '20181224'\n",
    "time = 22"
   ]
  },
  {
   "cell_type": "markdown",
   "metadata": {},
   "source": [
    "## 행정동 코드를 실제 동이름과 mapping"
   ]
  },
  {
   "cell_type": "code",
   "execution_count": null,
   "metadata": {},
   "outputs": [],
   "source": [
    "data_path = '/home/zimin/datasets/seoul/'\n",
    "geo_path = data_path + 'skorea_submunicipalities_geo_simple.json'\n",
    "geo_str = json.load(open(geo_path, encoding='utf-8'))\n",
    "geo_str['features'] = [i for i in geo_str['features'] if i['properties']['code'][:2] == '11']\n",
    "\n",
    "analysis = datetime.datetime(int(when[:4]), int(when[4:6]) , int(when[-2:]) , time)\n",
    "week = {0 : '월요일', 1 : '화요일', 2 : '수요일', 3 : '목요일', 4 : '금요일', 5 : '토요일', 6 : '일요일'}\n",
    "weekday = week[analysis.weekday()]\n",
    "date = str(analysis.year) + str(analysis.month) + str(analysis.day) "
   ]
  },
  {
   "cell_type": "code",
   "execution_count": 219,
   "metadata": {},
   "outputs": [
    {
     "data": {
      "text/plain": [
       "('월요일', '20181224')"
      ]
     },
     "execution_count": 219,
     "metadata": {},
     "output_type": "execute_result"
    }
   ],
   "source": [
    "weekday, date"
   ]
  },
  {
   "cell_type": "code",
   "execution_count": 216,
   "metadata": {},
   "outputs": [],
   "source": [
    "local = pd.read_csv(os.path.join(data_path, 'LOCAL_PEOPLE_' + when + '.csv'))"
   ]
  },
  {
   "cell_type": "markdown",
   "metadata": {},
   "source": [
    "## 행정동코드를 통계청행정동 코드로 mapping"
   ]
  },
  {
   "cell_type": "code",
   "execution_count": 220,
   "metadata": {},
   "outputs": [],
   "source": [
    "\n",
    "mapping = pd.read_csv(os.path.join(data_path,'행정동코드_매핑정보_2018.csv'))\n",
    "mapping.drop(0, axis =0, inplace = True)\n",
    "\n",
    "check_local = np.unique( local.iloc[:,2].values) # 생활인구데이터 행정동코드 \n",
    "name_dict = {i : mapping[mapping['행자부행정동코드'] == str(i)].iloc[:,4].values[0] for i in check_local} # 행정동코드를 행정동 이름으로\n",
    "map_dict = {i : str(mapping[mapping['행자부행정동코드'] == str(i)].iloc[:,0].values[0]) for i in check_local} # 행정동코드를 통계청행정동 코드로\n",
    "\n",
    "local['행정동이름'] = local['행정동코드'].apply(lambda x : name_dict[x])\n",
    "local['행정동코드'] = local['행정동코드'].apply(lambda x : map_dict[x])"
   ]
  },
  {
   "cell_type": "markdown",
   "metadata": {},
   "source": [
    "### column name을 보기 편하게 설정\n",
    "집계구코드는 필요에 따라 사용여부 결정, 이 코드에서는 사용하지 않음"
   ]
  },
  {
   "cell_type": "code",
   "execution_count": 223,
   "metadata": {},
   "outputs": [],
   "source": [
    "local = local[['기준일ID',\n",
    " '시간대구분',\n",
    " '행정동코드',\n",
    " '행정동이름',\n",
    " '총생활인구수',\n",
    " '남자10세부터14세생활인구수',\n",
    " '남자15세부터19세생활인구수',\n",
    " '남자20세부터24세생활인구수',\n",
    " '남자25세부터29세생활인구수',\n",
    " '남자30세부터34세생활인구수',\n",
    " '남자35세부터39세생활인구수',\n",
    " '남자40세부터44세생활인구수',\n",
    " '남자45세부터49세생활인구수',\n",
    " '남자50세부터54세생활인구수',\n",
    " '남자55세부터59세생활인구수',\n",
    " '남자60세부터64세생활인구수',\n",
    " '남자65세부터69세생활인구수',\n",
    " '남자70세이상생활인구수',\n",
    " '여자10세부터14세생활인구수',\n",
    " '여자15세부터19세생활인구수',\n",
    " '여자20세부터24세생활인구수',\n",
    " '여자25세부터29세생활인구수',\n",
    " '여자30세부터34세생활인구수',\n",
    " '여자35세부터39세생활인구수',\n",
    " '여자40세부터44세생활인구수',\n",
    " '여자45세부터49세생활인구수',\n",
    " '여자50세부터54세생활인구수',\n",
    " '여자55세부터59세생활인구수',\n",
    " '여자60세부터64세생활인구수',\n",
    " '여자65세부터69세생활인구수',\n",
    " '여자70세이상생활인구수']]"
   ]
  },
  {
   "cell_type": "code",
   "execution_count": 224,
   "metadata": {},
   "outputs": [],
   "source": [
    "prev1 = [ '남자10세부터14세생활인구수',\n",
    " '남자15세부터19세생활인구수',\n",
    " '남자20세부터24세생활인구수',\n",
    " '남자25세부터29세생활인구수',\n",
    " '남자30세부터34세생활인구수',\n",
    " '남자35세부터39세생활인구수',\n",
    " '남자40세부터44세생활인구수',\n",
    " '남자45세부터49세생활인구수',\n",
    " '남자50세부터54세생활인구수',\n",
    " '남자55세부터59세생활인구수',\n",
    " '남자60세부터64세생활인구수',\n",
    " '남자65세부터69세생활인구수',\n",
    " '남자70세이상생활인구수']\n",
    "prev2 =[\n",
    " '여자10세부터14세생활인구수',\n",
    " '여자15세부터19세생활인구수',\n",
    " '여자20세부터24세생활인구수',\n",
    " '여자25세부터29세생활인구수',\n",
    " '여자30세부터34세생활인구수',\n",
    " '여자35세부터39세생활인구수',\n",
    " '여자40세부터44세생활인구수',\n",
    " '여자45세부터49세생활인구수',\n",
    " '여자50세부터54세생활인구수',\n",
    " '여자55세부터59세생활인구수',\n",
    " '여자60세부터64세생활인구수',\n",
    " '여자65세부터69세생활인구수',\n",
    " '여자70세이상생활인구수']"
   ]
  },
  {
   "cell_type": "code",
   "execution_count": 225,
   "metadata": {},
   "outputs": [
    {
     "name": "stderr",
     "output_type": "stream",
     "text": [
      "/home/zimin/anaconda3/lib/python3.7/site-packages/pandas/core/frame.py:3494: SettingWithCopyWarning: \n",
      "A value is trying to be set on a copy of a slice from a DataFrame.\n",
      "Try using .loc[row_indexer,col_indexer] = value instead\n",
      "\n",
      "See the caveats in the documentation: http://pandas.pydata.org/pandas-docs/stable/user_guide/indexing.html#returning-a-view-versus-a-copy\n",
      "  self[k1] = value[k2]\n"
     ]
    }
   ],
   "source": [
    "local[prev1 + prev2] = local[prev1 + prev2].replace('*',0)\n",
    "local[prev1 + prev2] = local[prev1 + prev2].astype(int)"
   ]
  },
  {
   "cell_type": "code",
   "execution_count": 227,
   "metadata": {},
   "outputs": [],
   "source": [
    "local = local.groupby(['행정동이름','행정동코드','기준일ID','시간대구분']).sum()"
   ]
  },
  {
   "cell_type": "code",
   "execution_count": 229,
   "metadata": {},
   "outputs": [],
   "source": [
    "after1 = {i : 110+5*j for j,i in enumerate(prev1)}\n",
    "after2 = {i : 210+5*j for j,i in enumerate(prev2)}\n",
    "after = dict(after1, **after2)"
   ]
  },
  {
   "cell_type": "code",
   "execution_count": 230,
   "metadata": {},
   "outputs": [],
   "source": [
    "local.rename(columns = after, inplace=True)\n",
    "local.to_csv(os.path.join(data_path, 'pre_local_PEOPLE_' + date + '.csv'))"
   ]
  },
  {
   "cell_type": "markdown",
   "metadata": {},
   "source": [
    "# 간단한 분석 예시\n",
    "### 날짜에 따라서 종로에 사람이 얼마나 있었는지\n",
    "17,24,31,30 데이터가 있어야 함\n",
    "https://data.seoul.go.kr/dataVisual/seoul/seoulLivingPopulation.do"
   ]
  },
  {
   "cell_type": "code",
   "execution_count": 231,
   "metadata": {},
   "outputs": [],
   "source": [
    "a17 = pd.read_csv(os.path.join(data_path, 'pre_local_PEOPLE_' + '20181217' + '.csv'))\n",
    "a24 = pd.read_csv(os.path.join(data_path, 'pre_local_PEOPLE_' + '20181224' + '.csv'))\n",
    "a31 = pd.read_csv(os.path.join(data_path, 'pre_local_PEOPLE_' + '20181231' + '.csv'))\n",
    "a30 = pd.read_csv(os.path.join(data_path, 'pre_local_PEOPLE_' + '20181230' + '.csv'))"
   ]
  },
  {
   "cell_type": "code",
   "execution_count": 151,
   "metadata": {
    "scrolled": true
   },
   "outputs": [],
   "source": [
    "b17 = a17[(a17['행정동이름'] == '종로1.2.3.4가동') & (a17['시간대구분'].isin([21,22,23]))]\n",
    "b24 = a24[(a24['행정동이름'] == '종로1.2.3.4가동') & (a24['시간대구분'].isin([21,22,23]))]\n",
    "b30 = a30[(a30['행정동이름'] == '종로1.2.3.4가동') & (a30['시간대구분'].isin([21,22,23]))]\n",
    "b31 = a31[(a31['행정동이름'] == '종로1.2.3.4가동') & (a31['시간대구분'].isin([21,22,23]))]"
   ]
  },
  {
   "cell_type": "code",
   "execution_count": 199,
   "metadata": {},
   "outputs": [],
   "source": [
    "merged = pd.concat([b17, b24, b30, b31])\n",
    "merged['days'] = merged['기준일ID']"
   ]
  },
  {
   "cell_type": "code",
   "execution_count": 212,
   "metadata": {},
   "outputs": [
    {
     "data": {
      "image/png": "[encoded data removed]",
      "text/plain": [
       "<Figure size 1440x720 with 1 Axes>"
      ]
     },
     "metadata": {
      "needs_background": "light"
     },
     "output_type": "display_data"
    }
   ],
   "source": [
    "plt.figure(figsize = (20,10))\n",
    "ax = sns.barplot(x=\"시간대구분\", y=\"총생활인구수\", data=merged, hue = 'days')\n",
    "plt.text(0.7,82000,'how many people in Jongro?', fontsize = 20)\n",
    "plt.xlabel('days')\n",
    "plt.ylabel('counts')\n",
    "plt.show()"
   ]
  }
 ],
 "metadata": {
  "kernelspec": {
   "display_name": "Python 3",
   "language": "python",
   "name": "python3"
  },
  "language_info": {
   "codemirror_mode": {
    "name": "ipython",
    "version": 3
   },
   "file_extension": ".py",
   "mimetype": "text/x-python",
   "name": "python",
   "nbconvert_exporter": "python",
   "pygments_lexer": "ipython3",
   "version": "3.7.4"
  }
 },
 "nbformat": 4,
 "nbformat_minor": 2
}
