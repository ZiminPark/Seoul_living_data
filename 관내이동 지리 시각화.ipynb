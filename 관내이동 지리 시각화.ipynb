{
 "cells": [
  {
   "cell_type": "markdown",
   "metadata": {},
   "source": [
    "# 지리 시각화 코드, folium을 사용"
   ]
  },
  {
   "cell_type": "markdown",
   "metadata": {},
   "source": [
    "### 생활인구 데이터 홈페이지\n",
    "https://data.seoul.go.kr/dataVisual/seoul/seoulLivingPopulation.do"
   ]
  },
  {
   "cell_type": "code",
   "execution_count": 2,
   "metadata": {},
   "outputs": [],
   "source": [
    "from selenium import webdriver\n",
    "import time\n",
    "import folium\n",
    "import os\n",
    "import json\n",
    "import pandas as pd\n",
    "import numpy as np\n",
    "import datetime"
   ]
  },
  {
   "cell_type": "markdown",
   "metadata": {},
   "source": [
    "# 전처리 된 데이터를 불러오는 과정"
   ]
  },
  {
   "cell_type": "code",
   "execution_count": 4,
   "metadata": {},
   "outputs": [],
   "source": [
    "data_path = '/home/zimin/datasets/seoul/'\n",
    "analysis = datetime.datetime(2019,11, 23)\n",
    "week = {0 : '월요일', 1 : '화요일', 2 : '수요일', 3 : '목요일', 4 : '금요일', 5 : '토요일', 6 : '일요일'}\n",
    "weekday = week[analysis.weekday()]\n",
    "date = str(analysis.year) + str(analysis.month) + str(analysis.day) \n",
    "\n",
    "mapping = pd.read_csv(os.path.join(data_path,'행정동코드_매핑정보_2018.csv'))\n",
    "mapping.drop(0, axis =0, inplace = True)\n",
    "\n",
    "district = mapping['시군구명'].unique().tolist()\n",
    "\n",
    "dtos = {}\n",
    "for i in district:\n",
    "    dtos[i] = mapping[mapping['시군구명']==i]['행정동명'].values.tolist()\n",
    "\n",
    "data_path = '/home/zimin/datasets/seoul/'\n",
    "geo_path = data_path + 'skorea_submunicipalities_geo_simple.json'\n",
    "geo_str = json.load(open(geo_path, encoding='utf-8'))\n",
    "geo_str['features'] = [i for i in geo_str['features'] if i['properties']['code'][:2] == '11']\n",
    "\n",
    "inner = pd.read_csv(os.path.join(data_path, 'pre_INNER_PEOPLE_' + date + '.csv'), index_col=0)"
   ]
  },
  {
   "cell_type": "markdown",
   "metadata": {},
   "source": [
    "# 시간, 분석 나이대, 장소를 지정"
   ]
  },
  {
   "cell_type": "code",
   "execution_count": 5,
   "metadata": {},
   "outputs": [],
   "source": [
    "when = 15\n",
    "who = ['115','215']\n",
    "if who[0] != '300':\n",
    "    whose = who[0][1:] + '~' + str(eval(who[-1][1:] )+5) + '세'\n",
    "else:\n",
    "    whose = '외국인'\n",
    "where =['갈현1동', '대치2동']"
   ]
  },
  {
   "cell_type": "code",
   "execution_count": 6,
   "metadata": {},
   "outputs": [],
   "source": [
    "check = inner[(inner['시간대구분'] == when) & (inner['행정동이름'].isin(where))][['행정동이름','행정동코드','자치구이름'] + who]"
   ]
  },
  {
   "cell_type": "code",
   "execution_count": 7,
   "metadata": {},
   "outputs": [
    {
     "name": "stderr",
     "output_type": "stream",
     "text": [
      "/home/zimin/anaconda3/lib/python3.7/site-packages/ipykernel_launcher.py:6: SettingWithCopyWarning: \n",
      "A value is trying to be set on a copy of a slice from a DataFrame.\n",
      "Try using .loc[row_indexer,col_indexer] = value instead\n",
      "\n",
      "See the caveats in the documentation: http://pandas.pydata.org/pandas-docs/stable/user_guide/indexing.html#returning-a-view-versus-a-copy\n",
      "  \n"
     ]
    }
   ],
   "source": [
    "check['자치구코드'] = 0\n",
    "\n",
    "for i in district:\n",
    "    df = check[check['자치구이름'] == i]\n",
    "    for j in dtos[i]:\n",
    "        df['자치구코드'] = j\n",
    "        check = check.append(df)\n",
    "        \n",
    "\n",
    "check = check[check['자치구코드'] != 0]"
   ]
  },
  {
   "cell_type": "code",
   "execution_count": 8,
   "metadata": {},
   "outputs": [],
   "source": [
    "check['자치구코드'] = check['자치구코드'].apply(lambda x : inner[inner['행정동이름']==x]['행정동코드'].iloc[0])\n",
    "df = check[check['자치구이름']=='강남구'].iloc[:1,:]\n",
    "df['자치구코드'] = '1123051'\n",
    "check = check.append(df)"
   ]
  },
  {
   "cell_type": "code",
   "execution_count": 9,
   "metadata": {},
   "outputs": [],
   "source": [
    "check[who] = check[who].replace('*',0)\n",
    "check[who] = check[who].astype(int)\n",
    "check['sum'] = check[who].sum(axis=1)\n",
    "check['행정동코드'] = check['행정동코드'].apply(str)"
   ]
  },
  {
   "cell_type": "code",
   "execution_count": 10,
   "metadata": {},
   "outputs": [
    {
     "name": "stderr",
     "output_type": "stream",
     "text": [
      "/home/zimin/anaconda3/lib/python3.7/site-packages/ipykernel_launcher.py:2: SettingWithCopyWarning: \n",
      "A value is trying to be set on a copy of a slice from a DataFrame.\n",
      "Try using .loc[row_indexer,col_indexer] = value instead\n",
      "\n",
      "See the caveats in the documentation: http://pandas.pydata.org/pandas-docs/stable/user_guide/indexing.html#returning-a-view-versus-a-copy\n",
      "  \n",
      "/home/zimin/anaconda3/lib/python3.7/site-packages/ipykernel_launcher.py:3: SettingWithCopyWarning: \n",
      "A value is trying to be set on a copy of a slice from a DataFrame.\n",
      "Try using .loc[row_indexer,col_indexer] = value instead\n",
      "\n",
      "See the caveats in the documentation: http://pandas.pydata.org/pandas-docs/stable/user_guide/indexing.html#returning-a-view-versus-a-copy\n",
      "  This is separate from the ipykernel package so we can avoid doing imports until\n"
     ]
    }
   ],
   "source": [
    "gal = check[check['행정동이름']=='갈현1동']\n",
    "gal['sum'] = gal['sum'].apply(lambda x: np.power(x, 1/2))\n",
    "gal['자치구코드'] = gal['자치구코드'].apply(str)"
   ]
  },
  {
   "cell_type": "code",
   "execution_count": 11,
   "metadata": {},
   "outputs": [
    {
     "name": "stderr",
     "output_type": "stream",
     "text": [
      "/home/zimin/anaconda3/lib/python3.7/site-packages/ipykernel_launcher.py:2: SettingWithCopyWarning: \n",
      "A value is trying to be set on a copy of a slice from a DataFrame.\n",
      "Try using .loc[row_indexer,col_indexer] = value instead\n",
      "\n",
      "See the caveats in the documentation: http://pandas.pydata.org/pandas-docs/stable/user_guide/indexing.html#returning-a-view-versus-a-copy\n",
      "  \n",
      "/home/zimin/anaconda3/lib/python3.7/site-packages/ipykernel_launcher.py:3: SettingWithCopyWarning: \n",
      "A value is trying to be set on a copy of a slice from a DataFrame.\n",
      "Try using .loc[row_indexer,col_indexer] = value instead\n",
      "\n",
      "See the caveats in the documentation: http://pandas.pydata.org/pandas-docs/stable/user_guide/indexing.html#returning-a-view-versus-a-copy\n",
      "  This is separate from the ipykernel package so we can avoid doing imports until\n"
     ]
    }
   ],
   "source": [
    "daechi = check[check['행정동이름']=='대치2동']\n",
    "daechi['sum'] = daechi['sum'].apply(lambda x: np.power(x, 1/3))\n",
    "daechi['자치구코드'] = daechi['자치구코드'].apply(str)"
   ]
  },
  {
   "cell_type": "markdown",
   "metadata": {},
   "source": [
    "# folium을 이용해 지리 시각화  : output이 html로 떨어짐"
   ]
  },
  {
   "cell_type": "markdown",
   "metadata": {},
   "source": [
    "## html 스크린샷을 찍기 위해 selenium을 사용, chromedriver 설치 필요"
   ]
  },
  {
   "cell_type": "code",
   "execution_count": 12,
   "metadata": {},
   "outputs": [
    {
     "name": "stderr",
     "output_type": "stream",
     "text": [
      "/home/zimin/anaconda3/lib/python3.7/site-packages/folium/folium.py:415: FutureWarning: The choropleth  method has been deprecated. Instead use the new Choropleth class, which has the same arguments. See the example notebook 'GeoJSON_and_choropleth' for how to do this.\n",
      "  FutureWarning\n"
     ]
    }
   ],
   "source": [
    "fn= date + weekday + ' ' +str(when)+ '시 ' + whose  + '.html'\n",
    "\n",
    "seoul_map = folium.Map(location =[37.5502, 126.982], zoom_start=11, tiles = 'cartodbpositron')\n",
    "seoul_map.choropleth(geo_data = geo_str,\n",
    "                    data = gal,\n",
    "                    columns = ['자치구코드', 'sum'],\n",
    "                    fill_color = 'Reds',\n",
    "                    bins = 9,\n",
    "                    key_on = 'properties.code',\n",
    "                    highlight = True,\n",
    "                    fill_opacity = 0.7, line_opacity = 1,\n",
    "                    legend_name = 'After power 1/3')\n",
    "\n",
    "title_html = '''\n",
    "             <h3 align=\"center\" style=\"font-size:20px\"><b>{}</b></h3>\n",
    "             '''.format(fn[:-5])\n",
    "seoul_map.get_root().html.add_child(folium.Element(title_html))\n",
    "\n",
    "delay=1\n",
    "tmpurl='file://{path}/{mapfile}'.format(path=os.getcwd() + '/html_data',mapfile=fn)\n",
    "seoul_map.save('./html_data/' + fn)\n",
    "browser = webdriver.Chrome('/usr/bin/chromedriver')\n",
    "browser.get(tmpurl)\n",
    "#Give the map tiles some time to load\n",
    "time.sleep(delay)\n",
    "browser.save_screenshot('./screenshot/' + fn[:-5] + '.png')\n",
    "browser.quit()"
   ]
  }
 ],
 "metadata": {
  "kernelspec": {
   "display_name": "Python 3",
   "language": "python",
   "name": "python3"
  },
  "language_info": {
   "codemirror_mode": {
    "name": "ipython",
    "version": 3
   },
   "file_extension": ".py",
   "mimetype": "text/x-python",
   "name": "python",
   "nbconvert_exporter": "python",
   "pygments_lexer": "ipython3",
   "version": "3.7.4"
  }
 },
 "nbformat": 4,
 "nbformat_minor": 2
}
