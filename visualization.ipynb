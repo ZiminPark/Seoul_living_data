{
 "cells": [
  {
   "cell_type": "markdown",
   "metadata": {},
   "source": [
    "# 생활인구 데이터 홈페이지\n",
    "https://data.seoul.go.kr/dataVisual/seoul/seoulLivingPopulation.do"
   ]
  },
  {
   "cell_type": "code",
   "execution_count": 16,
   "metadata": {},
   "outputs": [],
   "source": [
    "import folium\n",
    "import os\n",
    "import json\n",
    "import pandas as pd\n",
    "import numpy as np"
   ]
  },
  {
   "cell_type": "code",
   "execution_count": 17,
   "metadata": {},
   "outputs": [],
   "source": [
    "date = '1121'"
   ]
  },
  {
   "cell_type": "code",
   "execution_count": 18,
   "metadata": {},
   "outputs": [],
   "source": [
    "data_path = '/home/zimin/datasets/seoul/'\n",
    "geo_path = data_path + 'skorea_submunicipalities_geo_simple.json'\n",
    "geo_str = json.load(open(geo_path, encoding='utf-8'))\n",
    "geo_str['features'] = [i for i in geo_str['features'] if i['properties']['code'][:2] == '11']"
   ]
  },
  {
   "cell_type": "code",
   "execution_count": 43,
   "metadata": {},
   "outputs": [],
   "source": [
    "inner = pd.read_csv(os.path.join(data_path, 'pre_INNER_PEOPLE_2019' + date + '.csv'), index_col=0)"
   ]
  },
  {
   "cell_type": "code",
   "execution_count": 44,
   "metadata": {},
   "outputs": [],
   "source": [
    "inner['행정동코드'] = inner['행정동코드'].apply(str)"
   ]
  },
  {
   "cell_type": "code",
   "execution_count": 70,
   "metadata": {
    "collapsed": true
   },
   "outputs": [
    {
     "data": {
      "text/html": [
       "<div>\n",
       "<style scoped>\n",
       "    .dataframe tbody tr th:only-of-type {\n",
       "        vertical-align: middle;\n",
       "    }\n",
       "\n",
       "    .dataframe tbody tr th {\n",
       "        vertical-align: top;\n",
       "    }\n",
       "\n",
       "    .dataframe thead th {\n",
       "        text-align: right;\n",
       "    }\n",
       "</style>\n",
       "<table border=\"1\" class=\"dataframe\">\n",
       "  <thead>\n",
       "    <tr style=\"text-align: right;\">\n",
       "      <th></th>\n",
       "      <th>기준일ID</th>\n",
       "      <th>시간대구분</th>\n",
       "      <th>행정동코드</th>\n",
       "      <th>거주지 자치구 코드</th>\n",
       "      <th>행정동이름</th>\n",
       "      <th>자치구이름</th>\n",
       "      <th>총생활인구수</th>\n",
       "      <th>남자10세부터14세생활인구수</th>\n",
       "      <th>남자15세부터19세생활인구수</th>\n",
       "      <th>남자20세부터24세생활인구수</th>\n",
       "      <th>...</th>\n",
       "      <th>여자35세부터39세생활인구수</th>\n",
       "      <th>여자40세부터44세생활인구수</th>\n",
       "      <th>여자45세부터49세생활인구수</th>\n",
       "      <th>여자50세부터54세생활인구수</th>\n",
       "      <th>여자55세부터59세생활인구수</th>\n",
       "      <th>여자60세부터64세생활인구수</th>\n",
       "      <th>여자65세부터69세생활인구수</th>\n",
       "      <th>여자70세부터74세생활인구수</th>\n",
       "      <th>여자75세부터79세생활인구수</th>\n",
       "      <th>장기체류외국인수</th>\n",
       "    </tr>\n",
       "  </thead>\n",
       "  <tbody>\n",
       "    <tr>\n",
       "      <td>0</td>\n",
       "      <td>20191121</td>\n",
       "      <td>0</td>\n",
       "      <td>1101072</td>\n",
       "      <td>11110</td>\n",
       "      <td>청운효자동</td>\n",
       "      <td>종로구</td>\n",
       "      <td>490.9311</td>\n",
       "      <td>*</td>\n",
       "      <td>11</td>\n",
       "      <td>66</td>\n",
       "      <td>...</td>\n",
       "      <td>25</td>\n",
       "      <td>41</td>\n",
       "      <td>17</td>\n",
       "      <td>17</td>\n",
       "      <td>14</td>\n",
       "      <td>18</td>\n",
       "      <td>10</td>\n",
       "      <td>21</td>\n",
       "      <td>11</td>\n",
       "      <td>10</td>\n",
       "    </tr>\n",
       "    <tr>\n",
       "      <td>1</td>\n",
       "      <td>20191121</td>\n",
       "      <td>0</td>\n",
       "      <td>1101072</td>\n",
       "      <td>11140</td>\n",
       "      <td>청운효자동</td>\n",
       "      <td>중구</td>\n",
       "      <td>16.7825</td>\n",
       "      <td>*</td>\n",
       "      <td>*</td>\n",
       "      <td>*</td>\n",
       "      <td>...</td>\n",
       "      <td>*</td>\n",
       "      <td>*</td>\n",
       "      <td>*</td>\n",
       "      <td>*</td>\n",
       "      <td>*</td>\n",
       "      <td>*</td>\n",
       "      <td>*</td>\n",
       "      <td>*</td>\n",
       "      <td>*</td>\n",
       "      <td>*</td>\n",
       "    </tr>\n",
       "    <tr>\n",
       "      <td>2</td>\n",
       "      <td>20191121</td>\n",
       "      <td>0</td>\n",
       "      <td>1101072</td>\n",
       "      <td>11170</td>\n",
       "      <td>청운효자동</td>\n",
       "      <td>용산구</td>\n",
       "      <td>35.5083</td>\n",
       "      <td>*</td>\n",
       "      <td>*</td>\n",
       "      <td>*</td>\n",
       "      <td>...</td>\n",
       "      <td>*</td>\n",
       "      <td>*</td>\n",
       "      <td>*</td>\n",
       "      <td>*</td>\n",
       "      <td>*</td>\n",
       "      <td>*</td>\n",
       "      <td>*</td>\n",
       "      <td>*</td>\n",
       "      <td>*</td>\n",
       "      <td>*</td>\n",
       "    </tr>\n",
       "    <tr>\n",
       "      <td>3</td>\n",
       "      <td>20191121</td>\n",
       "      <td>0</td>\n",
       "      <td>1101072</td>\n",
       "      <td>11200</td>\n",
       "      <td>청운효자동</td>\n",
       "      <td>성동구</td>\n",
       "      <td>1.6971</td>\n",
       "      <td>*</td>\n",
       "      <td>*</td>\n",
       "      <td>*</td>\n",
       "      <td>...</td>\n",
       "      <td>*</td>\n",
       "      <td>*</td>\n",
       "      <td>*</td>\n",
       "      <td>*</td>\n",
       "      <td>*</td>\n",
       "      <td>*</td>\n",
       "      <td>*</td>\n",
       "      <td>*</td>\n",
       "      <td>*</td>\n",
       "      <td>*</td>\n",
       "    </tr>\n",
       "    <tr>\n",
       "      <td>4</td>\n",
       "      <td>20191121</td>\n",
       "      <td>0</td>\n",
       "      <td>1101072</td>\n",
       "      <td>11230</td>\n",
       "      <td>청운효자동</td>\n",
       "      <td>동대문구</td>\n",
       "      <td>14.4602</td>\n",
       "      <td>*</td>\n",
       "      <td>*</td>\n",
       "      <td>*</td>\n",
       "      <td>...</td>\n",
       "      <td>*</td>\n",
       "      <td>*</td>\n",
       "      <td>*</td>\n",
       "      <td>*</td>\n",
       "      <td>*</td>\n",
       "      <td>*</td>\n",
       "      <td>*</td>\n",
       "      <td>*</td>\n",
       "      <td>*</td>\n",
       "      <td>5</td>\n",
       "    </tr>\n",
       "  </tbody>\n",
       "</table>\n",
       "<p>5 rows × 36 columns</p>\n",
       "</div>"
      ],
      "text/plain": [
       "      기준일ID  시간대구분    행정동코드  거주지 자치구 코드  행정동이름 자치구이름    총생활인구수  \\\n",
       "0  20191121      0  1101072       11110  청운효자동   종로구  490.9311   \n",
       "1  20191121      0  1101072       11140  청운효자동    중구   16.7825   \n",
       "2  20191121      0  1101072       11170  청운효자동   용산구   35.5083   \n",
       "3  20191121      0  1101072       11200  청운효자동   성동구    1.6971   \n",
       "4  20191121      0  1101072       11230  청운효자동  동대문구   14.4602   \n",
       "\n",
       "  남자10세부터14세생활인구수 남자15세부터19세생활인구수 남자20세부터24세생활인구수  ... 여자35세부터39세생활인구수  \\\n",
       "0               *              11              66  ...              25   \n",
       "1               *               *               *  ...               *   \n",
       "2               *               *               *  ...               *   \n",
       "3               *               *               *  ...               *   \n",
       "4               *               *               *  ...               *   \n",
       "\n",
       "  여자40세부터44세생활인구수 여자45세부터49세생활인구수 여자50세부터54세생활인구수 여자55세부터59세생활인구수  \\\n",
       "0              41              17              17              14   \n",
       "1               *               *               *               *   \n",
       "2               *               *               *               *   \n",
       "3               *               *               *               *   \n",
       "4               *               *               *               *   \n",
       "\n",
       "  여자60세부터64세생활인구수 여자65세부터69세생활인구수 여자70세부터74세생활인구수 여자75세부터79세생활인구수 장기체류외국인수  \n",
       "0              18              10              21              11       10  \n",
       "1               *               *               *               *        *  \n",
       "2               *               *               *               *        *  \n",
       "3               *               *               *               *        *  \n",
       "4               *               *               *               *        5  \n",
       "\n",
       "[5 rows x 36 columns]"
      ]
     },
     "execution_count": 70,
     "metadata": {},
     "output_type": "execute_result"
    }
   ],
   "source": [
    "inner.head()"
   ]
  },
  {
   "cell_type": "code",
   "execution_count": 71,
   "metadata": {},
   "outputs": [],
   "source": [
    "check = inner[(inner['시간대구분'] == 15) & (inner['자치구이름'] == '은평구')][['행정동이름','행정동코드','남자30세부터34세생활인구수', '여자30세부터34세생활인구수']]"
   ]
  },
  {
   "cell_type": "code",
   "execution_count": 78,
   "metadata": {},
   "outputs": [],
   "source": [
    "check['남자30세부터34세생활인구수'] = check['남자30세부터34세생활인구수'].replace('*',0)\n",
    "check['여자30세부터34세생활인구수'] = check['여자30세부터34세생활인구수'].replace('*',0)\n",
    "check[['행정동코드','남자30세부터34세생활인구수', '여자30세부터34세생활인구수']] = check[['행정동코드','남자30세부터34세생활인구수', '여자30세부터34세생활인구수']].astype(int)"
   ]
  },
  {
   "cell_type": "code",
   "execution_count": 79,
   "metadata": {},
   "outputs": [],
   "source": [
    "check['sum'] = check[['남자30세부터34세생활인구수', '여자30세부터34세생활인구수']].sum(axis=1)"
   ]
  },
  {
   "cell_type": "code",
   "execution_count": 82,
   "metadata": {},
   "outputs": [],
   "source": [
    "check['행정동코드'] = check['행정동코드'].apply(str)"
   ]
  },
  {
   "cell_type": "code",
   "execution_count": 83,
   "metadata": {},
   "outputs": [],
   "source": [
    "seoul_map = folium.Map(location =[37.5502, 126.982], zoom_start=10.5, tiles = 'cartodbpositron')\n",
    "seoul_map.choropleth(geo_data = geo_str,\n",
    "                    data = check,\n",
    "                    columns = ['행정동코드', 'sum'],\n",
    "                    fill_color = 'PuRd',\n",
    "                    key_on = 'properties.code',\n",
    "                    highlight = True,\n",
    "                    fill_opacity = 0.5, line_opacity = 1,\n",
    "                    legend_name = 'good_boy')\n",
    "\n",
    "title_html = '''\n",
    "             <h3 align=\"center\" style=\"font-size:20px\"><b>테스트</b></h3>\n",
    "             '''\n",
    "seoul_map.get_root().html.add_child(folium.Element(title_html))\n",
    "seoul_map.save('seoul_map.html')"
   ]
  },
  {
   "cell_type": "code",
   "execution_count": null,
   "metadata": {},
   "outputs": [],
   "source": []
  }
 ],
 "metadata": {
  "kernelspec": {
   "display_name": "Python 3",
   "language": "python",
   "name": "python3"
  },
  "language_info": {
   "codemirror_mode": {
    "name": "ipython",
    "version": 3
   },
   "file_extension": ".py",
   "mimetype": "text/x-python",
   "name": "python",
   "nbconvert_exporter": "python",
   "pygments_lexer": "ipython3",
   "version": "3.7.4"
  }
 },
 "nbformat": 4,
 "nbformat_minor": 2
}
