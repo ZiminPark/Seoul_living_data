{
 "cells": [
  {
   "cell_type": "markdown",
   "metadata": {},
   "source": [
    "# 생활인구 데이터 홈페이지\n",
    "https://data.seoul.go.kr/dataVisual/seoul/seoulLivingPopulation.do"
   ]
  },
  {
   "cell_type": "code",
   "execution_count": 1,
   "metadata": {},
   "outputs": [],
   "source": [
    "from selenium import webdriver\n",
    "import time\n",
    "import folium\n",
    "import os\n",
    "import json\n",
    "import pandas as pd\n",
    "import numpy as np\n",
    "import datetime"
   ]
  },
  {
   "cell_type": "code",
   "execution_count": 2,
   "metadata": {},
   "outputs": [],
   "source": [
    "data_path = '/home/zimin/datasets/seoul/'\n",
    "geo_path = data_path + 'skorea_submunicipalities_geo_simple.json'\n",
    "geo_str = json.load(open(geo_path, encoding='utf-8'))\n",
    "geo_str['features'] = [i for i in geo_str['features'] if i['properties']['code'][:2] == '11']"
   ]
  },
  {
   "cell_type": "code",
   "execution_count": 3,
   "metadata": {},
   "outputs": [],
   "source": [
    "pd.set_option('max_colwidth',500)\n",
    "pd.set_option('display.max_columns', None)\n",
    "pd.set_option('display.max_rows', 50)"
   ]
  },
  {
   "cell_type": "code",
   "execution_count": 13,
   "metadata": {},
   "outputs": [],
   "source": [
    "analysis = datetime.datetime(2019,11, 22)\n",
    "week = {0 : '월요일', 1 : '화요일', 2 : '수요일', 3 : '목요일', 4 : '금요일', 5 : '토요일', 6 : '일요일'}\n",
    "weekday = week[analysis.weekday()]\n",
    "date = str(analysis.year) + str(analysis.month) + str(analysis.day) "
   ]
  },
  {
   "cell_type": "code",
   "execution_count": 6,
   "metadata": {},
   "outputs": [],
   "source": [
    "local = pd.read_csv(os.path.join(data_path, 'pre_local_PEOPLE_' + date + '.csv'), index_col=[2])"
   ]
  },
  {
   "cell_type": "code",
   "execution_count": 66,
   "metadata": {},
   "outputs": [],
   "source": [
    "when = 21\n",
    "who = ['140','240']\n",
    "whose = who[0][1:] + '~' + str(eval(who[-1][1:] )+5)"
   ]
  },
  {
   "cell_type": "code",
   "execution_count": 67,
   "metadata": {},
   "outputs": [
    {
     "data": {
      "text/plain": [
       "('20191122', '금요일', 21, '40~45')"
      ]
     },
     "execution_count": 67,
     "metadata": {},
     "output_type": "execute_result"
    }
   ],
   "source": [
    "date, weekday, when, whose"
   ]
  },
  {
   "cell_type": "code",
   "execution_count": 68,
   "metadata": {},
   "outputs": [],
   "source": [
    "check = local[(local['시간대구분'] == when)][['행정동이름','행정동코드'] + who]\n",
    "check[who] = check[who].replace('*',0)\n",
    "check[who] = check[who].astype(int)\n",
    "check['sum'] = check[who].sum(axis=1)\n",
    "check['행정동코드'] = check['행정동코드'].apply(str)"
   ]
  },
  {
   "cell_type": "code",
   "execution_count": 69,
   "metadata": {
    "scrolled": true
   },
   "outputs": [
    {
     "data": {
      "text/html": [
       "<div>\n",
       "<style scoped>\n",
       "    .dataframe tbody tr th:only-of-type {\n",
       "        vertical-align: middle;\n",
       "    }\n",
       "\n",
       "    .dataframe tbody tr th {\n",
       "        vertical-align: top;\n",
       "    }\n",
       "\n",
       "    .dataframe thead th {\n",
       "        text-align: right;\n",
       "    }\n",
       "</style>\n",
       "<table border=\"1\" class=\"dataframe\">\n",
       "  <thead>\n",
       "    <tr style=\"text-align: right;\">\n",
       "      <th></th>\n",
       "      <th>행정동이름</th>\n",
       "      <th>행정동코드</th>\n",
       "      <th>140</th>\n",
       "      <th>240</th>\n",
       "      <th>sum</th>\n",
       "    </tr>\n",
       "    <tr>\n",
       "      <th>기준일ID</th>\n",
       "      <th></th>\n",
       "      <th></th>\n",
       "      <th></th>\n",
       "      <th></th>\n",
       "      <th></th>\n",
       "    </tr>\n",
       "  </thead>\n",
       "  <tbody>\n",
       "    <tr>\n",
       "      <td>20191122</td>\n",
       "      <td>역삼1동</td>\n",
       "      <td>1123064</td>\n",
       "      <td>6363</td>\n",
       "      <td>3670</td>\n",
       "      <td>10033</td>\n",
       "    </tr>\n",
       "    <tr>\n",
       "      <td>20191122</td>\n",
       "      <td>여의동</td>\n",
       "      <td>1119054</td>\n",
       "      <td>4403</td>\n",
       "      <td>3141</td>\n",
       "      <td>7544</td>\n",
       "    </tr>\n",
       "    <tr>\n",
       "      <td>20191122</td>\n",
       "      <td>서교동</td>\n",
       "      <td>1114066</td>\n",
       "      <td>4009</td>\n",
       "      <td>3339</td>\n",
       "      <td>7348</td>\n",
       "    </tr>\n",
       "    <tr>\n",
       "      <td>20191122</td>\n",
       "      <td>서초3동</td>\n",
       "      <td>1122053</td>\n",
       "      <td>3174</td>\n",
       "      <td>2703</td>\n",
       "      <td>5877</td>\n",
       "    </tr>\n",
       "    <tr>\n",
       "      <td>20191122</td>\n",
       "      <td>종로1.2.3.4가동</td>\n",
       "      <td>1101061</td>\n",
       "      <td>3564</td>\n",
       "      <td>2073</td>\n",
       "      <td>5637</td>\n",
       "    </tr>\n",
       "    <tr>\n",
       "      <td>20191122</td>\n",
       "      <td>역삼2동</td>\n",
       "      <td>1123065</td>\n",
       "      <td>2683</td>\n",
       "      <td>2578</td>\n",
       "      <td>5261</td>\n",
       "    </tr>\n",
       "    <tr>\n",
       "      <td>20191122</td>\n",
       "      <td>진관동</td>\n",
       "      <td>1112071</td>\n",
       "      <td>2209</td>\n",
       "      <td>2982</td>\n",
       "      <td>5191</td>\n",
       "    </tr>\n",
       "    <tr>\n",
       "      <td>20191122</td>\n",
       "      <td>논현2동</td>\n",
       "      <td>1123053</td>\n",
       "      <td>2891</td>\n",
       "      <td>1879</td>\n",
       "      <td>4770</td>\n",
       "    </tr>\n",
       "    <tr>\n",
       "      <td>20191122</td>\n",
       "      <td>압구정동</td>\n",
       "      <td>1123077</td>\n",
       "      <td>2489</td>\n",
       "      <td>2222</td>\n",
       "      <td>4711</td>\n",
       "    </tr>\n",
       "    <tr>\n",
       "      <td>20191122</td>\n",
       "      <td>대치2동</td>\n",
       "      <td>1123079</td>\n",
       "      <td>2275</td>\n",
       "      <td>2326</td>\n",
       "      <td>4601</td>\n",
       "    </tr>\n",
       "  </tbody>\n",
       "</table>\n",
       "</div>"
      ],
      "text/plain": [
       "                행정동이름    행정동코드   140   240    sum\n",
       "기준일ID                                            \n",
       "20191122         역삼1동  1123064  6363  3670  10033\n",
       "20191122          여의동  1119054  4403  3141   7544\n",
       "20191122          서교동  1114066  4009  3339   7348\n",
       "20191122         서초3동  1122053  3174  2703   5877\n",
       "20191122  종로1.2.3.4가동  1101061  3564  2073   5637\n",
       "20191122         역삼2동  1123065  2683  2578   5261\n",
       "20191122          진관동  1112071  2209  2982   5191\n",
       "20191122         논현2동  1123053  2891  1879   4770\n",
       "20191122         압구정동  1123077  2489  2222   4711\n",
       "20191122         대치2동  1123079  2275  2326   4601"
      ]
     },
     "execution_count": 69,
     "metadata": {},
     "output_type": "execute_result"
    }
   ],
   "source": [
    "check.sort_values(by='sum',ascending=False).head(10)"
   ]
  },
  {
   "cell_type": "code",
   "execution_count": 70,
   "metadata": {},
   "outputs": [],
   "source": [
    "fn= date + weekday + ' ' +str(when)+ '시 ' + whose + '세' + '.html'\n",
    "\n",
    "seoul_map = folium.Map(location =[37.5502, 126.982], zoom_start=11, tiles = 'cartodbpositron')\n",
    "seoul_map.choropleth(geo_data = geo_str,\n",
    "                    data = check,\n",
    "                    columns = ['행정동코드', 'sum'],\n",
    "                    fill_color = 'Reds',\n",
    "                    bins = 9,\n",
    "                    key_on = 'properties.code',\n",
    "                    highlight = True,\n",
    "                    fill_opacity = 0.7, line_opacity = 1,\n",
    "                    legend_name = 'good_boy')\n",
    "\n",
    "title_html = '''\n",
    "             <h3 align=\"center\" style=\"font-size:20px\"><b>{}</b></h3>\n",
    "             '''.format(fn)\n",
    "seoul_map.get_root().html.add_child(folium.Element(title_html))\n",
    "\n",
    "delay=1\n",
    "tmpurl='file://{path}/{mapfile}'.format(path=os.getcwd() + '/html_data',mapfile=fn)\n",
    "seoul_map.save('./html_data/' + fn)\n",
    "browser = webdriver.Chrome('/usr/bin/chromedriver')\n",
    "browser.get(tmpurl)\n",
    "#Give the map tiles some time to load\n",
    "time.sleep(delay)\n",
    "browser.save_screenshot('./screenshot/' + fn[:-5] + '.png')\n",
    "browser.quit()"
   ]
  },
  {
   "cell_type": "code",
   "execution_count": null,
   "metadata": {},
   "outputs": [],
   "source": []
  }
 ],
 "metadata": {
  "kernelspec": {
   "display_name": "Python 3",
   "language": "python",
   "name": "python3"
  },
  "language_info": {
   "codemirror_mode": {
    "name": "ipython",
    "version": 3
   },
   "file_extension": ".py",
   "mimetype": "text/x-python",
   "name": "python",
   "nbconvert_exporter": "python",
   "pygments_lexer": "ipython3",
   "version": "3.7.4"
  }
 },
 "nbformat": 4,
 "nbformat_minor": 2
}
