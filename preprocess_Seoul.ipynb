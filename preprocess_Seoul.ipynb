{
 "cells": [
  {
   "cell_type": "markdown",
   "metadata": {},
   "source": [
    "# 생활인구 데이터 홈페이지\n",
    "https://data.seoul.go.kr/dataVisual/seoul/seoulLivingPopulation.do"
   ]
  },
  {
   "cell_type": "code",
   "execution_count": 39,
   "metadata": {},
   "outputs": [],
   "source": [
    "import os\n",
    "import json\n",
    "import pandas as pd\n",
    "import numpy as np"
   ]
  },
  {
   "cell_type": "code",
   "execution_count": 40,
   "metadata": {},
   "outputs": [],
   "source": [
    "date = '1123'"
   ]
  },
  {
   "cell_type": "code",
   "execution_count": 41,
   "metadata": {},
   "outputs": [],
   "source": [
    "data_path = '/home/zimin/datasets/seoul/'\n",
    "geo_path = data_path + 'skorea_submunicipalities_geo_simple.json'\n",
    "geo_str = json.load(open(geo_path, encoding='utf-8'))\n",
    "geo_str['features'] = [i for i in geo_str['features'] if i['properties']['code'][:2] == '11']"
   ]
  },
  {
   "cell_type": "markdown",
   "metadata": {},
   "source": [
    "# 그냥 생활인구\n",
    "local = pd.read_csv(os.path.join(data_path, 'LOCAL_PEOPLE_20191119.csv'))"
   ]
  },
  {
   "cell_type": "code",
   "execution_count": 42,
   "metadata": {},
   "outputs": [],
   "source": [
    "inner = pd.read_csv(os.path.join(data_path, 'INNER_PEOPLE_2019' + date + '.csv'))"
   ]
  },
  {
   "cell_type": "code",
   "execution_count": 43,
   "metadata": {},
   "outputs": [],
   "source": [
    "mapping = pd.read_csv(os.path.join(data_path,'행정동코드_매핑정보_2018.csv'))\n",
    "mapping.drop(0, axis =0, inplace = True)"
   ]
  },
  {
   "cell_type": "code",
   "execution_count": 44,
   "metadata": {},
   "outputs": [],
   "source": [
    "large_mapping = pd.read_csv(os.path.join(data_path,'유입지코드_매핑정보_2018.csv'))"
   ]
  },
  {
   "cell_type": "code",
   "execution_count": 45,
   "metadata": {},
   "outputs": [],
   "source": [
    "check_inner = np.unique(inner.iloc[:,2].values) # 생활인구데이터 행정동코드 \n",
    "check2_inner = np.unique(inner.iloc[:,3].values) # 생활인구데이터 자치구코드"
   ]
  },
  {
   "cell_type": "code",
   "execution_count": 46,
   "metadata": {},
   "outputs": [],
   "source": [
    "large_dict = {i : large_mapping[large_mapping['RESD_CD'] == i].iloc[:,2].values[0] for i in check2_inner} # 자치구코드를 자치구 이름으로\n",
    "name_dict = {i : mapping[mapping['행자부행정동코드'] == str(i)].iloc[:,4].values[0] for i in check_inner} # 행정동코드를 행정동 이름으로\n",
    "map_dict = {i : str(mapping[mapping['행자부행정동코드'] == str(i)].iloc[:,0].values[0]) for i in check_inner} # 행정동코드를 통계청행정동 코드로"
   ]
  },
  {
   "cell_type": "code",
   "execution_count": 47,
   "metadata": {},
   "outputs": [],
   "source": [
    "inner['행정동이름'] = inner['행정동코드'].apply(lambda x : name_dict[x])\n",
    "inner['자치구이름'] = inner['거주지 자치구 코드'].apply(lambda x : large_dict[x])\n",
    "inner['행정동코드'] = inner['행정동코드'].apply(lambda x : map_dict[x])"
   ]
  },
  {
   "cell_type": "code",
   "execution_count": 48,
   "metadata": {},
   "outputs": [],
   "source": [
    "inner = inner[['기준일ID',\n",
    " '시간대구분',\n",
    " '행정동코드',\n",
    " '거주지 자치구 코드',\n",
    " '행정동이름',\n",
    " '자치구이름',\n",
    " '총생활인구수',\n",
    " '남자10세부터14세생활인구수',\n",
    " '남자15세부터19세생활인구수',\n",
    " '남자20세부터24세생활인구수',\n",
    " '남자25세부터29세생활인구수',\n",
    " '남자30세부터34세생활인구수',\n",
    " '남자35세부터39세생활인구수',\n",
    " '남자40세부터44세생활인구수',\n",
    " '남자45세부터49세생활인구수',\n",
    " '남자50세부터54세생활인구수',\n",
    " '남자55세부터59세생활인구수',\n",
    " '남자60세부터64세생활인구수',\n",
    " '남자65세부터69세생활인구수',\n",
    " '남자70세부터74세생활인구수',\n",
    " '남자75세부터79세생활인구수',\n",
    " '여자10세부터14세생활인구수',\n",
    " '여자15세부터19세생활인구수',\n",
    " '여자20세부터24세생활인구수',\n",
    " '여자25세부터29세생활인구수',\n",
    " '여자30세부터34세생활인구수',\n",
    " '여자35세부터39세생활인구수',\n",
    " '여자40세부터44세생활인구수',\n",
    " '여자45세부터49세생활인구수',\n",
    " '여자50세부터54세생활인구수',\n",
    " '여자55세부터59세생활인구수',\n",
    " '여자60세부터64세생활인구수',\n",
    " '여자65세부터69세생활인구수',\n",
    " '여자70세부터74세생활인구수',\n",
    " '여자75세부터79세생활인구수',\n",
    " '장기체류외국인수']]"
   ]
  },
  {
   "cell_type": "code",
   "execution_count": 49,
   "metadata": {},
   "outputs": [],
   "source": [
    "prev1 = [ '남자10세부터14세생활인구수',\n",
    " '남자15세부터19세생활인구수',\n",
    " '남자20세부터24세생활인구수',\n",
    " '남자25세부터29세생활인구수',\n",
    " '남자30세부터34세생활인구수',\n",
    " '남자35세부터39세생활인구수',\n",
    " '남자40세부터44세생활인구수',\n",
    " '남자45세부터49세생활인구수',\n",
    " '남자50세부터54세생활인구수',\n",
    " '남자55세부터59세생활인구수',\n",
    " '남자60세부터64세생활인구수',\n",
    " '남자65세부터69세생활인구수',\n",
    " '남자70세부터74세생활인구수',\n",
    " '남자75세부터79세생활인구수',]\n",
    "prev2 =[\n",
    " '여자10세부터14세생활인구수',\n",
    " '여자15세부터19세생활인구수',\n",
    " '여자20세부터24세생활인구수',\n",
    " '여자25세부터29세생활인구수',\n",
    " '여자30세부터34세생활인구수',\n",
    " '여자35세부터39세생활인구수',\n",
    " '여자40세부터44세생활인구수',\n",
    " '여자45세부터49세생활인구수',\n",
    " '여자50세부터54세생활인구수',\n",
    " '여자55세부터59세생활인구수',\n",
    " '여자60세부터64세생활인구수',\n",
    " '여자65세부터69세생활인구수',\n",
    " '여자70세부터74세생활인구수',\n",
    " '여자75세부터79세생활인구수',]\n",
    "prev3=[\n",
    " '장기체류외국인수']\n",
    "\n",
    "after1 = {i : 110+5*j for j,i in enumerate(prev1)}\n",
    "after2 = {i : 210+5*j for j,i in enumerate(prev2)}\n",
    "after3 = {i : 300 for j,i in enumerate(prev3)}\n",
    "\n",
    "after = dict(after1, **after2)\n",
    "after = dict(after, **after3)"
   ]
  },
  {
   "cell_type": "code",
   "execution_count": 50,
   "metadata": {},
   "outputs": [],
   "source": [
    "inner.rename(columns = after, inplace=True)"
   ]
  },
  {
   "cell_type": "code",
   "execution_count": 51,
   "metadata": {},
   "outputs": [],
   "source": [
    "inner.to_csv(os.path.join(data_path, 'pre_INNER_PEOPLE_2019' + date + '.csv'))"
   ]
  },
  {
   "cell_type": "code",
   "execution_count": null,
   "metadata": {},
   "outputs": [],
   "source": []
  }
 ],
 "metadata": {
  "kernelspec": {
   "display_name": "Python 3",
   "language": "python",
   "name": "python3"
  },
  "language_info": {
   "codemirror_mode": {
    "name": "ipython",
    "version": 3
   },
   "file_extension": ".py",
   "mimetype": "text/x-python",
   "name": "python",
   "nbconvert_exporter": "python",
   "pygments_lexer": "ipython3",
   "version": "3.7.4"
  }
 },
 "nbformat": 4,
 "nbformat_minor": 2
}
